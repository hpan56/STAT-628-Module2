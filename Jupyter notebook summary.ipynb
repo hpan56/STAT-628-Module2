{
 "cells": [
  {
   "cell_type": "markdown",
   "metadata": {},
   "source": [
    "# Summary\n",
    "##### Yuchen Zeng, Jiantong Wang, Ruixuan Zhao, Hao Pan"
   ]
  },
  {
   "cell_type": "markdown",
   "metadata": {},
   "source": [
    "## 1.  Introduction"
   ]
  },
  {
   "cell_type": "markdown",
   "metadata": {},
   "source": [
    "Body fat percentage can be defined as mass of fat divided by total mass. Body fat percentage is a very important index for people to evaluate their health condition, health costs and even happiness. Though it's important, it's not easy to compute as it's impossible to get mass of fat. Folks(1956) came up an idea to estimate body fat based on body density, density of lean body tissue and density of fat tissue, which do made computation possible. Katch and McArdle (1977) and Wilmore (1976) gave an good estimation of density of lean body tissue and density of fat tissue. The only problem left is how to estimate body density, which is costly to get precise estimation.Thus, it would be great if we can come up with either a new way to estimate body fat percentage or an economical way to estimate body density.\n",
    "\n",
    "Finally, our group built two models that can estimate body fat percentage fairly accurate with very limited body information. The first model we bulit estimates body fat percentage directly with abdomen circumference and weight. The second one estimates the reciprocal of body density to estimate body fat percentage with abdomen circumference and height"
   ]
  },
  {
   "cell_type": "markdown",
   "metadata": {},
   "source": [
    "## 2. Background information"
   ]
  },
  {
   "cell_type": "markdown",
   "metadata": {},
   "source": [
    "More and more people focus on their health, and one of the ways to assess health is estimating percentage of body fat.  For a long time, people used various methods to estimate the percentage of body fat. Some people use predictive equations for body fat using body circumference measurements and skin-fold measurements. For example, the \"Siri's equation\" is\n",
    "\n",
    "Percentage of Body Fat = 495/density - 450\n",
    "\n",
    "However, it is difficult for doctors to determine body volume (body density) by underwater submersion. We should find a way to determine percentage of body fat by commonly available measurements.  The dataset BodyFat.csv contains 252 records of  available measurements: age, weight, height, adiposity, neck circumference, chest circumference, abdomen circumference, hip circumference, thigh circumference, knee circumference, ankle circumference, biceps circumference, forearm circumference and wrist circumference. Also, we have density determined from underwater weighing and percentage of body fat from Siri's (1956) equation. We should use the data to construct simple and robust statistical model to predict percentage of body fat."
   ]
  },
  {
   "cell_type": "markdown",
   "metadata": {},
   "source": [
    "## 3. Data processing"
   ]
  },
  {
   "cell_type": "code",
   "execution_count": 7,
   "metadata": {},
   "outputs": [
    {
     "data": {
      "text/html": [
       "<table>\n",
       "<thead><tr><th scope=col>IDNO</th><th scope=col>BODYFAT</th><th scope=col>DENSITY</th><th scope=col>AGE</th><th scope=col>WEIGHT</th><th scope=col>HEIGHT</th><th scope=col>ADIPOSITY</th><th scope=col>NECK</th><th scope=col>CHEST</th><th scope=col>ABDOMEN</th><th scope=col>HIP</th><th scope=col>THIGH</th><th scope=col>KNEE</th><th scope=col>ANKLE</th><th scope=col>BICEPS</th><th scope=col>FOREARM</th><th scope=col>WRIST</th></tr></thead>\n",
       "<tbody>\n",
       "\t<tr><td>1     </td><td>12.6  </td><td>1.0708</td><td>23    </td><td>154.25</td><td>67.75 </td><td>23.7  </td><td>36.2  </td><td> 93.1 </td><td> 85.2 </td><td> 94.5 </td><td>59.0  </td><td>37.3  </td><td>21.9  </td><td>32.0  </td><td>27.4  </td><td>17.1  </td></tr>\n",
       "\t<tr><td>2     </td><td> 6.9  </td><td>1.0853</td><td>22    </td><td>173.25</td><td>72.25 </td><td>23.4  </td><td>38.5  </td><td> 93.6 </td><td> 83.0 </td><td> 98.7 </td><td>58.7  </td><td>37.3  </td><td>23.4  </td><td>30.5  </td><td>28.9  </td><td>18.2  </td></tr>\n",
       "\t<tr><td>3     </td><td>24.6  </td><td>1.0414</td><td>22    </td><td>154.00</td><td>66.25 </td><td>24.7  </td><td>34.0  </td><td> 95.8 </td><td> 87.9 </td><td> 99.2 </td><td>59.6  </td><td>38.9  </td><td>24.0  </td><td>28.8  </td><td>25.2  </td><td>16.6  </td></tr>\n",
       "\t<tr><td>4     </td><td>10.9  </td><td>1.0751</td><td>26    </td><td>184.75</td><td>72.25 </td><td>24.9  </td><td>37.4  </td><td>101.8 </td><td> 86.4 </td><td>101.2 </td><td>60.1  </td><td>37.3  </td><td>22.8  </td><td>32.4  </td><td>29.4  </td><td>18.2  </td></tr>\n",
       "\t<tr><td>5     </td><td>27.8  </td><td>1.0340</td><td>24    </td><td>184.25</td><td>71.25 </td><td>25.6  </td><td>34.4  </td><td> 97.3 </td><td>100.0 </td><td>101.9 </td><td>63.2  </td><td>42.2  </td><td>24.0  </td><td>32.2  </td><td>27.7  </td><td>17.7  </td></tr>\n",
       "\t<tr><td>6     </td><td>20.6  </td><td>1.0502</td><td>24    </td><td>210.25</td><td>74.75 </td><td>26.5  </td><td>39.0  </td><td>104.5 </td><td> 94.4 </td><td>107.8 </td><td>66.0  </td><td>42.0  </td><td>25.6  </td><td>35.7  </td><td>30.6  </td><td>18.8  </td></tr>\n",
       "</tbody>\n",
       "</table>\n"
      ],
      "text/latex": [
       "\\begin{tabular}{r|lllllllllllllllll}\n",
       " IDNO & BODYFAT & DENSITY & AGE & WEIGHT & HEIGHT & ADIPOSITY & NECK & CHEST & ABDOMEN & HIP & THIGH & KNEE & ANKLE & BICEPS & FOREARM & WRIST\\\\\n",
       "\\hline\n",
       "\t 1      & 12.6   & 1.0708 & 23     & 154.25 & 67.75  & 23.7   & 36.2   &  93.1  &  85.2  &  94.5  & 59.0   & 37.3   & 21.9   & 32.0   & 27.4   & 17.1  \\\\\n",
       "\t 2      &  6.9   & 1.0853 & 22     & 173.25 & 72.25  & 23.4   & 38.5   &  93.6  &  83.0  &  98.7  & 58.7   & 37.3   & 23.4   & 30.5   & 28.9   & 18.2  \\\\\n",
       "\t 3      & 24.6   & 1.0414 & 22     & 154.00 & 66.25  & 24.7   & 34.0   &  95.8  &  87.9  &  99.2  & 59.6   & 38.9   & 24.0   & 28.8   & 25.2   & 16.6  \\\\\n",
       "\t 4      & 10.9   & 1.0751 & 26     & 184.75 & 72.25  & 24.9   & 37.4   & 101.8  &  86.4  & 101.2  & 60.1   & 37.3   & 22.8   & 32.4   & 29.4   & 18.2  \\\\\n",
       "\t 5      & 27.8   & 1.0340 & 24     & 184.25 & 71.25  & 25.6   & 34.4   &  97.3  & 100.0  & 101.9  & 63.2   & 42.2   & 24.0   & 32.2   & 27.7   & 17.7  \\\\\n",
       "\t 6      & 20.6   & 1.0502 & 24     & 210.25 & 74.75  & 26.5   & 39.0   & 104.5  &  94.4  & 107.8  & 66.0   & 42.0   & 25.6   & 35.7   & 30.6   & 18.8  \\\\\n",
       "\\end{tabular}\n"
      ],
      "text/markdown": [
       "\n",
       "| IDNO | BODYFAT | DENSITY | AGE | WEIGHT | HEIGHT | ADIPOSITY | NECK | CHEST | ABDOMEN | HIP | THIGH | KNEE | ANKLE | BICEPS | FOREARM | WRIST |\n",
       "|---|---|---|---|---|---|---|---|---|---|---|---|---|---|---|---|---|\n",
       "| 1      | 12.6   | 1.0708 | 23     | 154.25 | 67.75  | 23.7   | 36.2   |  93.1  |  85.2  |  94.5  | 59.0   | 37.3   | 21.9   | 32.0   | 27.4   | 17.1   |\n",
       "| 2      |  6.9   | 1.0853 | 22     | 173.25 | 72.25  | 23.4   | 38.5   |  93.6  |  83.0  |  98.7  | 58.7   | 37.3   | 23.4   | 30.5   | 28.9   | 18.2   |\n",
       "| 3      | 24.6   | 1.0414 | 22     | 154.00 | 66.25  | 24.7   | 34.0   |  95.8  |  87.9  |  99.2  | 59.6   | 38.9   | 24.0   | 28.8   | 25.2   | 16.6   |\n",
       "| 4      | 10.9   | 1.0751 | 26     | 184.75 | 72.25  | 24.9   | 37.4   | 101.8  |  86.4  | 101.2  | 60.1   | 37.3   | 22.8   | 32.4   | 29.4   | 18.2   |\n",
       "| 5      | 27.8   | 1.0340 | 24     | 184.25 | 71.25  | 25.6   | 34.4   |  97.3  | 100.0  | 101.9  | 63.2   | 42.2   | 24.0   | 32.2   | 27.7   | 17.7   |\n",
       "| 6      | 20.6   | 1.0502 | 24     | 210.25 | 74.75  | 26.5   | 39.0   | 104.5  |  94.4  | 107.8  | 66.0   | 42.0   | 25.6   | 35.7   | 30.6   | 18.8   |\n",
       "\n"
      ],
      "text/plain": [
       "  IDNO BODYFAT DENSITY AGE WEIGHT HEIGHT ADIPOSITY NECK CHEST ABDOMEN HIP  \n",
       "1 1    12.6    1.0708  23  154.25 67.75  23.7      36.2  93.1  85.2    94.5\n",
       "2 2     6.9    1.0853  22  173.25 72.25  23.4      38.5  93.6  83.0    98.7\n",
       "3 3    24.6    1.0414  22  154.00 66.25  24.7      34.0  95.8  87.9    99.2\n",
       "4 4    10.9    1.0751  26  184.75 72.25  24.9      37.4 101.8  86.4   101.2\n",
       "5 5    27.8    1.0340  24  184.25 71.25  25.6      34.4  97.3 100.0   101.9\n",
       "6 6    20.6    1.0502  24  210.25 74.75  26.5      39.0 104.5  94.4   107.8\n",
       "  THIGH KNEE ANKLE BICEPS FOREARM WRIST\n",
       "1 59.0  37.3 21.9  32.0   27.4    17.1 \n",
       "2 58.7  37.3 23.4  30.5   28.9    18.2 \n",
       "3 59.6  38.9 24.0  28.8   25.2    16.6 \n",
       "4 60.1  37.3 22.8  32.4   29.4    18.2 \n",
       "5 63.2  42.2 24.0  32.2   27.7    17.7 \n",
       "6 66.0  42.0 25.6  35.7   30.6    18.8 "
      ]
     },
     "metadata": {},
     "output_type": "display_data"
    }
   ],
   "source": [
    "bf = read.csv(\"./data/BodyFat.csv\",sep=\",\")\n",
    "head(bf)"
   ]
  },
  {
   "cell_type": "markdown",
   "metadata": {},
   "source": [
    "First, because we already know the relationship between density and body fat percentage which is\n",
    "\n",
    "$$ \n",
    "BodyFat = \\frac{495}{Density}-450.\n",
    "$$\n",
    "\n",
    "We compared the predicted body fat which deduced from density and the input body fat and check which one is more reasonable. By this way, we could detect some potential outliers. "
   ]
  },
  {
   "cell_type": "code",
   "execution_count": 8,
   "metadata": {},
   "outputs": [
    {
     "data": {
      "text/html": [
       "<table>\n",
       "<thead><tr><th></th><th scope=col>BODYFAT</th><th scope=col>pd.bf</th></tr></thead>\n",
       "<tbody>\n",
       "\t<tr><th scope=row>96</th><td>17.3      </td><td> 0.3684833</td></tr>\n",
       "\t<tr><th scope=row>48</th><td> 6.4      </td><td>14.1350211</td></tr>\n",
       "\t<tr><th scope=row>76</th><td>18.3      </td><td>14.0915057</td></tr>\n",
       "\t<tr><th scope=row>182</th><td> 0.0      </td><td>-3.6116873</td></tr>\n",
       "\t<tr><th scope=row>216</th><td>45.1      </td><td>47.4874372</td></tr>\n",
       "</tbody>\n",
       "</table>\n"
      ],
      "text/latex": [
       "\\begin{tabular}{r|ll}\n",
       "  & BODYFAT & pd.bf\\\\\n",
       "\\hline\n",
       "\t96 & 17.3       &  0.3684833\\\\\n",
       "\t48 &  6.4       & 14.1350211\\\\\n",
       "\t76 & 18.3       & 14.0915057\\\\\n",
       "\t182 &  0.0       & -3.6116873\\\\\n",
       "\t216 & 45.1       & 47.4874372\\\\\n",
       "\\end{tabular}\n"
      ],
      "text/markdown": [
       "\n",
       "| <!--/--> | BODYFAT | pd.bf |\n",
       "|---|---|---|\n",
       "| 96 | 17.3       |  0.3684833 |\n",
       "| 48 |  6.4       | 14.1350211 |\n",
       "| 76 | 18.3       | 14.0915057 |\n",
       "| 182 |  0.0       | -3.6116873 |\n",
       "| 216 | 45.1       | 47.4874372 |\n",
       "\n"
      ],
      "text/plain": [
       "    BODYFAT pd.bf     \n",
       "96  17.3     0.3684833\n",
       "48   6.4    14.1350211\n",
       "76  18.3    14.0915057\n",
       "182  0.0    -3.6116873\n",
       "216 45.1    47.4874372"
      ]
     },
     "metadata": {},
     "output_type": "display_data"
    }
   ],
   "source": [
    "bf$pd.bf = 495/bf$DENSITY-450; ol.bf = order(abs(bf$pd.bf-bf$BODYFAT), decreasing = TRUE)[1:5]\n",
    "bf$outlier = 1:dim(bf)[1] %in% ol.bf; bf[ol.bf,c(\"BODYFAT\",\"pd.bf\")]"
   ]
  },
  {
   "cell_type": "markdown",
   "metadata": {},
   "source": [
    "![Outlier detection](./image/outlier_lm.png)"
   ]
  },
  {
   "cell_type": "markdown",
   "metadata": {},
   "source": [
    "The potential outliers are listed as above and shown in the figures above (left). Obviously, according to the 96th observation, the predicted body fat is impossible, we keep the original body fat percentage because the predicted body fat is too extreme to happen. As for 48th, 76th and 216th observation, we cannot tell which input, body fat or density is correct, so we delete them strightly. As for 182nd observation, both predicted body fat and input body fat are impossible to happen, we delete it as an outlier."
   ]
  },
  {
   "cell_type": "code",
   "execution_count": 9,
   "metadata": {},
   "outputs": [],
   "source": [
    "ol.bf = c(48,76,182,216)"
   ]
  },
  {
   "cell_type": "markdown",
   "metadata": {},
   "source": [
    "Since we already know the formula to compute the adiposity by using weight and height, we use the weight and height to calculate the adiposity.\n",
    "$$\n",
    "adiposity = \\frac{0.4547*weight}{(height*0.025)^2}\n",
    "$$"
   ]
  },
  {
   "cell_type": "code",
   "execution_count": 10,
   "metadata": {},
   "outputs": [
    {
     "data": {
      "text/html": [
       "<table>\n",
       "<thead><tr><th></th><th scope=col>ADIPOSITY</th><th scope=col>pd.bmi</th><th scope=col>WEIGHT</th><th scope=col>HEIGHT</th></tr></thead>\n",
       "<tbody>\n",
       "\t<tr><th scope=row>42</th><td>29.9     </td><td>165.61823</td><td>205.00   </td><td>29.50    </td></tr>\n",
       "\t<tr><th scope=row>163</th><td>24.4     </td><td> 27.40693</td><td>184.25   </td><td>68.75    </td></tr>\n",
       "\t<tr><th scope=row>221</th><td>24.5     </td><td> 21.67807</td><td>153.25   </td><td>70.50    </td></tr>\n",
       "</tbody>\n",
       "</table>\n"
      ],
      "text/latex": [
       "\\begin{tabular}{r|llll}\n",
       "  & ADIPOSITY & pd.bmi & WEIGHT & HEIGHT\\\\\n",
       "\\hline\n",
       "\t42 & 29.9      & 165.61823 & 205.00    & 29.50    \\\\\n",
       "\t163 & 24.4      &  27.40693 & 184.25    & 68.75    \\\\\n",
       "\t221 & 24.5      &  21.67807 & 153.25    & 70.50    \\\\\n",
       "\\end{tabular}\n"
      ],
      "text/markdown": [
       "\n",
       "| <!--/--> | ADIPOSITY | pd.bmi | WEIGHT | HEIGHT |\n",
       "|---|---|---|---|---|\n",
       "| 42 | 29.9      | 165.61823 | 205.00    | 29.50     |\n",
       "| 163 | 24.4      |  27.40693 | 184.25    | 68.75     |\n",
       "| 221 | 24.5      |  21.67807 | 153.25    | 70.50     |\n",
       "\n"
      ],
      "text/plain": [
       "    ADIPOSITY pd.bmi    WEIGHT HEIGHT\n",
       "42  29.9      165.61823 205.00 29.50 \n",
       "163 24.4       27.40693 184.25 68.75 \n",
       "221 24.5       21.67807 153.25 70.50 "
      ]
     },
     "metadata": {},
     "output_type": "display_data"
    }
   ],
   "source": [
    "bf$pd.bmi = 0.45359237*bf$WEIGHT/(bf$HEIGHT*0.0254)^2\n",
    "ol.bmi = order(abs(bf$pd.bmi-bf$ADIPOSITY), decreasing = TRUE)[1:3]\n",
    "bf$outlier = 1:dim(bf)[1] %in% ol.bmi; bf[ol.bmi,c(\"ADIPOSITY\",\"pd.bmi\",\"WEIGHT\",\"HEIGHT\")]"
   ]
  },
  {
   "cell_type": "markdown",
   "metadata": {},
   "source": [
    "The potential outlier detected in this way is shown as the table and figure (right) above.  Noticed the estimated adiposity of the 42rd sample is apparently problematic. So we took a further look at this sample, and found the extremely short height. We use known adiposity to estimate the height 69.45 and replace the original data. As for 163rd and 221st samples, we cannot tell which element is problematic, so we delete these two observations. "
   ]
  },
  {
   "cell_type": "code",
   "execution_count": 11,
   "metadata": {},
   "outputs": [],
   "source": [
    "ol.bmi = c(163,221);bf[42,\"HEIGHT\"] = 69.45;bf1 = bf[-c(ol.bf,ol.bmi), c(2,4:17)]"
   ]
  },
  {
   "cell_type": "markdown",
   "metadata": {},
   "source": [
    "Now look at the boxplot to see other potential outliers."
   ]
  },
  {
   "cell_type": "markdown",
   "metadata": {},
   "source": [
    "![](./image/boxplot.jpeg)"
   ]
  },
  {
   "cell_type": "markdown",
   "metadata": {},
   "source": [
    "These points all are potential outliers, but looking into the samples, we cannot delete them curtly."
   ]
  },
  {
   "cell_type": "markdown",
   "metadata": {},
   "source": [
    "## 4. Model motivation and selection\n",
    "\n",
    "We came up with 3 idea to fit our model, the following part is how we fit and choose the models."
   ]
  },
  {
   "cell_type": "markdown",
   "metadata": {},
   "source": [
    "### Model 1"
   ]
  },
  {
   "cell_type": "markdown",
   "metadata": {},
   "source": [
    "We borrowed some idea from US Army, they have a formula for men to calculate body fat, it is like this:  \n",
    "\n",
    "$$\n",
    "Body~Fat \\sim \\log{(Waist - Neck)} + \\log{(Height)}\n",
    "$$\n",
    "\n",
    "We borrowed this idea. But we don't have data of waist, but we thought abdomen is not much differenrt from waist, so we just used abdomen instead of waist."
   ]
  },
  {
   "cell_type": "code",
   "execution_count": 12,
   "metadata": {},
   "outputs": [],
   "source": [
    "model_Army <- lm(BODYFAT ~ log(ABDOMEN - NECK) + log(HEIGHT),data=bf1)"
   ]
  },
  {
   "cell_type": "markdown",
   "metadata": {},
   "source": [
    "From the results, we can get the adjusted R square is 0.7179, which is ideal. But the model requires 3 variables as input. It is kind or more complex than model_Tsuna. So we tried to dismiss NECK in our model, and see what would happen."
   ]
  },
  {
   "cell_type": "code",
   "execution_count": 13,
   "metadata": {},
   "outputs": [],
   "source": [
    "model_1 <- lm(BODYFAT ~ log(ABDOMEN) + log(HEIGHT),data=bf1)"
   ]
  },
  {
   "cell_type": "markdown",
   "metadata": {},
   "source": [
    "From the result above, we could see that although we exclude Neck from our model, but the results are not getting so much worse. The adjusted R square is 0.6971, which is also fairly acceptable. So we just exclude Neck from our model.\n",
    "\n",
    "However for each of the three models, point 39 seems to be a leverage point and if you take a glance on data of 39, you would also consider 39 as an outlier."
   ]
  },
  {
   "cell_type": "markdown",
   "metadata": {},
   "source": [
    "### Model 2"
   ]
  },
  {
   "cell_type": "markdown",
   "metadata": {},
   "source": [
    "For we already know that body fat is calculated by the body density, so our aim could be try to fit a model to predict density.  \n",
    "\n",
    "We came up with two solutions:  \n",
    "\n",
    "Solution from Hao:  Roughly, a guy could be regard as a cylinder, so a guy's density could roughly be drecribed as:\n",
    "\n",
    "$$\n",
    "\\begin{aligned}\n",
    "\\rho &= \\frac{Weight}{Volume}=\\frac{Weight}{Height\\times Area}=\\frac{Weight}{(Height)^2}\\times \\frac{Height}{\\pi R^2}\\\\\n",
    "&=BMI\\times\\frac{Height}{\\pi\\times(\\frac{Abdomen}{4\\pi})^2}\\\\\n",
    "\\end{aligned}\n",
    "$$\n",
    "\n",
    "And we could find that there is a linear relationship between BMI and Abdomen, so we could fit a regression for BMI on abdomen."
   ]
  },
  {
   "cell_type": "code",
   "execution_count": 14,
   "metadata": {},
   "outputs": [],
   "source": [
    "model_BMI_ABDOMEN <- lm(ADIPOSITY ~ ABDOMEN,data = bf1)\n",
    "bf1$h_1 = 1/(bf1$HEIGHT);bf1$dh_1 = 1/(bf1$ABDOMEN * bf1$HEIGHT);bf1$d_h1 = bf1$ABDOMEN / bf1$HEIGHT\n",
    "model_Tsuna_V1 <- lm(BODYFAT ~ dh_1 + d_h1 + h_1,data=bf1)"
   ]
  },
  {
   "cell_type": "markdown",
   "metadata": {},
   "source": [
    "Then we could use abdomen to represent BMI, and further simplify our formula: \n",
    "\n",
    "$$\n",
    "\\begin{aligned}\n",
    "&\\rho=(k\\times Abdomen +b) \\frac{Height}{\\frac{(Abdomen)^2}{16\\pi}}\\\\\n",
    "& \\frac{1}{\\rho}=\\frac{\\frac{1}{16\\pi}\\times(Abdomen)^2}{(k\\times Abdomen+b)Height}\\\\\n",
    "& \\frac{1}{\\rho}=\\frac{1}{16\\pi k^2}[\\frac{(k\\times Abdomen+b)}{Height}+\\frac{b^2}{(k\\times Abdomen+b)Height}-\\frac{2b}{Height}]\\\\\n",
    "&Body~fat\\sim \\frac{1}{\\rho} \\sim \\frac{(k\\times Abdomen+b)}{Height}+\\frac{b^2}{(k\\times Abdomen+b)Height}-\\frac{2b}{Height}\n",
    "\\end{aligned}\n",
    "$$\n",
    "\n",
    "For $(k\\times Abdomen+b)$, is BMI based on the relationship with Abdomen. So we named it as BMI.Abdomen. I also tried just simply use adoposity here, but the adjusted R square is smaller than use abdomen here.  "
   ]
  },
  {
   "cell_type": "code",
   "execution_count": 15,
   "metadata": {},
   "outputs": [],
   "source": [
    "bf1$BMI.ABDOMEN <- 0.308909*bf1$ABDOMEN - 3.162932;bf1$HEIGHT.CM <- bf1$HEIGHT * 2.54\n",
    "bf1$h_2 = 1/(bf1$HEIGHT.CM);bf1$dh_2 = 1/(bf1$BMI.ABDOMEN * bf1$HEIGHT.CM);bf1$d_h2 = bf1$BMI.ABDOMEN / bf1$HEIGHT.CM\n",
    "model_Tsuna_V2 <- lm(BODYFAT ~ dh_2 + d_h2 + h_2,data = bf1)\n",
    "\n",
    "bf1$h_3 = 1/(bf1$HEIGHT.CM);bf1$dh_3 = 1/(bf1$ADIPOSITY * bf1$HEIGHT.CM);bf1$d_h3 = bf1$ADIPOSITY / bf1$HEIGHT.CM\n",
    "model_Tsuna_V3 <- lm(BODYFAT ~ dh_3 + d_h3 + h_3, data = bf1)"
   ]
  },
  {
   "cell_type": "markdown",
   "metadata": {},
   "source": [
    "Here, we found that the adjusted R-square of model using Adiposity is smaller than model using Abdomen. I think it is kind of caused by that the Adiposity is reied on many other datas, which may accumulate the variances. So just use Abdomen instead of adiposity.\n",
    "Also, we could also try to just ignore the transformation and simply run a regression like this:  \n",
    "$$\n",
    "BODYFAT \\sim \\frac{1}{HEIGHT}+ \\frac{1}{ABDOMEN\\times HEIGHT} + \\frac{ABDOMEN}{HEIGHT} \n",
    "$$"
   ]
  },
  {
   "cell_type": "markdown",
   "metadata": {},
   "source": [
    "### Model 3"
   ]
  },
  {
   "cell_type": "code",
   "execution_count": 16,
   "metadata": {},
   "outputs": [
    {
     "data": {
      "text/html": [
       "<table>\n",
       "<thead><tr><th></th><th scope=col>X</th><th scope=col>mindex</th><th scope=col>n</th><th scope=col>predictors</th><th scope=col>rsquare</th><th scope=col>adjr</th><th scope=col>predrsq</th><th scope=col>cp</th><th scope=col>aic</th><th scope=col>sbic</th><th scope=col>sbc</th><th scope=col>msep</th><th scope=col>fpe</th><th scope=col>apc</th><th scope=col>hsp</th></tr></thead>\n",
       "<tbody>\n",
       "\t<tr><th scope=row>1</th><td>  7                 </td><td>  1                 </td><td>1                   </td><td>ABDOMEN             </td><td>6.478017e-01        </td><td> 0.646358275        </td><td> 0.63726116         </td><td> 73.97764           </td><td>1438.179            </td><td>739.0771            </td><td>1448.695            </td><td>20.09186            </td><td>20.09053            </td><td>0.3579720           </td><td>0.08201031          </td></tr>\n",
       "\t<tr><th scope=row>14</th><td>  3                 </td><td> 14                 </td><td>1                   </td><td>HEIGHT              </td><td>2.208779e-07        </td><td>-0.004098139        </td><td>-0.01819175         </td><td>655.15815           </td><td>1694.895            </td><td>992.8202            </td><td>1705.411            </td><td>57.04700            </td><td>57.04321            </td><td>1.0163932           </td><td>0.23285262          </td></tr>\n",
       "\t<tr><th scope=row>15</th><td> 32                 </td><td> 15                 </td><td>2                   </td><td>WEIGHT ABDOMEN      </td><td>7.080663e-01        </td><td> 0.705663519        </td><td> 0.69825412         </td><td> 21.91079           </td><td>1394.013            </td><td>695.5229            </td><td>1408.034            </td><td>16.79158            </td><td>16.78880            </td><td>0.2991420           </td><td>0.06853935          </td></tr>\n",
       "\t<tr><th scope=row>16</th><td> 84                 </td><td> 16                 </td><td>2                   </td><td>ABDOMEN WRIST       </td><td>6.868582e-01        </td><td> 0.684280881        </td><td> 0.67479081         </td><td> 40.93780           </td><td>1411.264            </td><td>712.3695            </td><td>1425.286            </td><td>18.01144            </td><td>18.00845            </td><td>0.3208737           </td><td>0.07351852          </td></tr>\n",
       "\t<tr><th scope=row>105</th><td> 47                 </td><td>105                 </td><td>2                   </td><td>HEIGHT ANKLE        </td><td>7.842930e-02        </td><td> 0.070844354        </td><td> 0.04108944         </td><td>586.79485           </td><td>1676.803            </td><td>973.4830            </td><td>1690.824            </td><td>53.00734            </td><td>52.99854            </td><td>0.9443255           </td><td>0.21636367          </td></tr>\n",
       "\t<tr><th scope=row>106</th><td>228                 </td><td>106                 </td><td>3                   </td><td>WEIGHT ABDOMEN WRIST</td><td>7.154836e-01        </td><td> 0.711956570        </td><td> 0.70221087         </td><td> 17.25624           </td><td>1389.681            </td><td>691.2710            </td><td>1407.208            </td><td>16.50076            </td><td>16.49583            </td><td>0.2939219           </td><td>0.06735226          </td></tr>\n",
       "</tbody>\n",
       "</table>\n"
      ],
      "text/latex": [
       "\\begin{tabular}{r|lllllllllllllll}\n",
       "  & X & mindex & n & predictors & rsquare & adjr & predrsq & cp & aic & sbic & sbc & msep & fpe & apc & hsp\\\\\n",
       "\\hline\n",
       "\t1 &   7                  &   1                  & 1                    & ABDOMEN              & 6.478017e-01         &  0.646358275         &  0.63726116          &  73.97764            & 1438.179             & 739.0771             & 1448.695             & 20.09186             & 20.09053             & 0.3579720            & 0.08201031          \\\\\n",
       "\t14 &   3                  &  14                  & 1                    & HEIGHT               & 2.208779e-07         & -0.004098139         & -0.01819175          & 655.15815            & 1694.895             & 992.8202             & 1705.411             & 57.04700             & 57.04321             & 1.0163932            & 0.23285262          \\\\\n",
       "\t15 &  32                  &  15                  & 2                    & WEIGHT ABDOMEN       & 7.080663e-01         &  0.705663519         &  0.69825412          &  21.91079            & 1394.013             & 695.5229             & 1408.034             & 16.79158             & 16.78880             & 0.2991420            & 0.06853935          \\\\\n",
       "\t16 &  84                  &  16                  & 2                    & ABDOMEN WRIST        & 6.868582e-01         &  0.684280881         &  0.67479081          &  40.93780            & 1411.264             & 712.3695             & 1425.286             & 18.01144             & 18.00845             & 0.3208737            & 0.07351852          \\\\\n",
       "\t105 &  47                  & 105                  & 2                    & HEIGHT ANKLE         & 7.842930e-02         &  0.070844354         &  0.04108944          & 586.79485            & 1676.803             & 973.4830             & 1690.824             & 53.00734             & 52.99854             & 0.9443255            & 0.21636367          \\\\\n",
       "\t106 & 228                  & 106                  & 3                    & WEIGHT ABDOMEN WRIST & 7.154836e-01         &  0.711956570         &  0.70221087          &  17.25624            & 1389.681             & 691.2710             & 1407.208             & 16.50076             & 16.49583             & 0.2939219            & 0.06735226          \\\\\n",
       "\\end{tabular}\n"
      ],
      "text/markdown": [
       "\n",
       "| <!--/--> | X | mindex | n | predictors | rsquare | adjr | predrsq | cp | aic | sbic | sbc | msep | fpe | apc | hsp |\n",
       "|---|---|---|---|---|---|---|---|---|---|---|---|---|---|---|---|\n",
       "| 1 |   7                  |   1                  | 1                    | ABDOMEN              | 6.478017e-01         |  0.646358275         |  0.63726116          |  73.97764            | 1438.179             | 739.0771             | 1448.695             | 20.09186             | 20.09053             | 0.3579720            | 0.08201031           |\n",
       "| 14 |   3                  |  14                  | 1                    | HEIGHT               | 2.208779e-07         | -0.004098139         | -0.01819175          | 655.15815            | 1694.895             | 992.8202             | 1705.411             | 57.04700             | 57.04321             | 1.0163932            | 0.23285262           |\n",
       "| 15 |  32                  |  15                  | 2                    | WEIGHT ABDOMEN       | 7.080663e-01         |  0.705663519         |  0.69825412          |  21.91079            | 1394.013             | 695.5229             | 1408.034             | 16.79158             | 16.78880             | 0.2991420            | 0.06853935           |\n",
       "| 16 |  84                  |  16                  | 2                    | ABDOMEN WRIST        | 6.868582e-01         |  0.684280881         |  0.67479081          |  40.93780            | 1411.264             | 712.3695             | 1425.286             | 18.01144             | 18.00845             | 0.3208737            | 0.07351852           |\n",
       "| 105 |  47                  | 105                  | 2                    | HEIGHT ANKLE         | 7.842930e-02         |  0.070844354         |  0.04108944          | 586.79485            | 1676.803             | 973.4830             | 1690.824             | 53.00734             | 52.99854             | 0.9443255            | 0.21636367           |\n",
       "| 106 | 228                  | 106                  | 3                    | WEIGHT ABDOMEN WRIST | 7.154836e-01         |  0.711956570         |  0.70221087          |  17.25624            | 1389.681             | 691.2710             | 1407.208             | 16.50076             | 16.49583             | 0.2939219            | 0.06735226           |\n",
       "\n"
      ],
      "text/plain": [
       "    X   mindex n predictors           rsquare      adjr         predrsq    \n",
       "1     7   1    1 ABDOMEN              6.478017e-01  0.646358275  0.63726116\n",
       "14    3  14    1 HEIGHT               2.208779e-07 -0.004098139 -0.01819175\n",
       "15   32  15    2 WEIGHT ABDOMEN       7.080663e-01  0.705663519  0.69825412\n",
       "16   84  16    2 ABDOMEN WRIST        6.868582e-01  0.684280881  0.67479081\n",
       "105  47 105    2 HEIGHT ANKLE         7.842930e-02  0.070844354  0.04108944\n",
       "106 228 106    3 WEIGHT ABDOMEN WRIST 7.154836e-01  0.711956570  0.70221087\n",
       "    cp        aic      sbic     sbc      msep     fpe      apc       hsp       \n",
       "1    73.97764 1438.179 739.0771 1448.695 20.09186 20.09053 0.3579720 0.08201031\n",
       "14  655.15815 1694.895 992.8202 1705.411 57.04700 57.04321 1.0163932 0.23285262\n",
       "15   21.91079 1394.013 695.5229 1408.034 16.79158 16.78880 0.2991420 0.06853935\n",
       "16   40.93780 1411.264 712.3695 1425.286 18.01144 18.00845 0.3208737 0.07351852\n",
       "105 586.79485 1676.803 973.4830 1690.824 53.00734 52.99854 0.9443255 0.21636367\n",
       "106  17.25624 1389.681 691.2710 1407.208 16.50076 16.49583 0.2939219 0.06735226"
      ]
     },
     "metadata": {},
     "output_type": "display_data"
    }
   ],
   "source": [
    "exhaus = read.csv(\"./data/step_result.csv\");exhaus[c(1,14,15,16,105,106),]"
   ]
  },
  {
   "cell_type": "markdown",
   "metadata": {},
   "source": [
    "By using exhaustion method to listing all possible linear models, we found the model using weight and abdomen as predictors is not only simple but also fit our data fairly well. Looking at the single-variable linear model, the one that performs best is using abdomen as predictor with R square equal to 0.65. And the one which perfroms best using two variables is taking weight and abdomen as predictors. The R square has been improved by about 0.06. However, as weight is a commonly used measurement that almost everyone knew their weight, adding weight as a predictor is good way to improve the accuracy of our model. According to the table above, if we still want to add a new predictor, wrist would be the best choice. However, the R square can only be improved by less than 0.01. So we select $bodyfat\\sim abdomen+weight$ as the best linear model."
   ]
  },
  {
   "cell_type": "markdown",
   "metadata": {},
   "source": [
    "### Detect outliers"
   ]
  },
  {
   "cell_type": "markdown",
   "metadata": {},
   "source": [
    "We use three criterions (leverage, diffit and cook's distance) to find the potential outliers. "
   ]
  },
  {
   "cell_type": "markdown",
   "metadata": {},
   "source": [
    "![](./image/outlier3_model.png)"
   ]
  },
  {
   "cell_type": "markdown",
   "metadata": {},
   "source": [
    "According to the graphs above, we look into the 39th observation and find this individual is a extreme sample. Deleting it would not affect the prediction of our model on common individuals. So we remove it from our dataset."
   ]
  },
  {
   "cell_type": "code",
   "execution_count": 17,
   "metadata": {},
   "outputs": [],
   "source": [
    "bf1 = bf1[-39,]"
   ]
  },
  {
   "cell_type": "markdown",
   "metadata": {},
   "source": [
    "### Model performance comparision"
   ]
  },
  {
   "cell_type": "code",
   "execution_count": 18,
   "metadata": {},
   "outputs": [
    {
     "name": "stdout",
     "output_type": "stream",
     "text": [
      "Model 1: BODYFAT ~ log(HEIGHT) + log(ABDOMEN)\n"
     ]
    },
    {
     "data": {
      "text/html": [
       "<table>\n",
       "<thead><tr><th scope=col>MSE_mean</th><th scope=col>MSE_SD</th></tr></thead>\n",
       "<tbody>\n",
       "\t<tr><td>4.087322 </td><td>0.4566042</td></tr>\n",
       "</tbody>\n",
       "</table>\n"
      ],
      "text/latex": [
       "\\begin{tabular}{ll}\n",
       " MSE\\_mean & MSE\\_SD\\\\\n",
       "\\hline\n",
       "\t 4.087322  & 0.4566042\\\\\n",
       "\\end{tabular}\n"
      ],
      "text/markdown": [
       "\n",
       "| MSE_mean | MSE_SD |\n",
       "|---|---|\n",
       "| 4.087322  | 0.4566042 |\n",
       "\n"
      ],
      "text/plain": [
       "     MSE_mean MSE_SD   \n",
       "[1,] 4.087322 0.4566042"
      ]
     },
     "metadata": {},
     "output_type": "display_data"
    }
   ],
   "source": [
    "source('./code/mse_cross_validation.R'); jw = summary(model_Army)\n",
    "cat(\"Model 1: \");MSE_Cal(BODYFAT~log(HEIGHT)+log(ABDOMEN), fold = 10, data = bf1)"
   ]
  },
  {
   "cell_type": "code",
   "execution_count": 19,
   "metadata": {},
   "outputs": [
    {
     "data": {
      "text/html": [
       "<table>\n",
       "<thead><tr><th></th><th scope=col>Adjusted.R.square</th><th scope=col>Residual.Standard.error</th><th scope=col>F.statistic</th></tr></thead>\n",
       "<tbody>\n",
       "\t<tr><th scope=row>value</th><td>0.7178796</td><td>0.7201827</td><td>312.7118 </td></tr>\n",
       "</tbody>\n",
       "</table>\n"
      ],
      "text/latex": [
       "\\begin{tabular}{r|lll}\n",
       "  & Adjusted.R.square & Residual.Standard.error & F.statistic\\\\\n",
       "\\hline\n",
       "\tvalue & 0.7178796 & 0.7201827 & 312.7118 \\\\\n",
       "\\end{tabular}\n"
      ],
      "text/markdown": [
       "\n",
       "| <!--/--> | Adjusted.R.square | Residual.Standard.error | F.statistic |\n",
       "|---|---|---|---|\n",
       "| value | 0.7178796 | 0.7201827 | 312.7118  |\n",
       "\n"
      ],
      "text/plain": [
       "      Adjusted.R.square Residual.Standard.error F.statistic\n",
       "value 0.7178796         0.7201827               312.7118   "
      ]
     },
     "metadata": {},
     "output_type": "display_data"
    }
   ],
   "source": [
    "data.frame(\"Adjusted R square\" = jw$adj.r.squared, \"Residual Standard error\" = jw$r.squared , \"F-statistic\" = jw$fstatistic[1])"
   ]
  },
  {
   "cell_type": "code",
   "execution_count": 20,
   "metadata": {},
   "outputs": [
    {
     "name": "stdout",
     "output_type": "stream",
     "text": [
      "Model 2: BODYFAT ~ dh_1 + d_h1 + h_1\n"
     ]
    },
    {
     "data": {
      "text/html": [
       "<table>\n",
       "<thead><tr><th scope=col>MSE_mean</th><th scope=col>MSE_SD</th></tr></thead>\n",
       "<tbody>\n",
       "\t<tr><td>3.849119 </td><td>0.5531433</td></tr>\n",
       "</tbody>\n",
       "</table>\n"
      ],
      "text/latex": [
       "\\begin{tabular}{ll}\n",
       " MSE\\_mean & MSE\\_SD\\\\\n",
       "\\hline\n",
       "\t 3.849119  & 0.5531433\\\\\n",
       "\\end{tabular}\n"
      ],
      "text/markdown": [
       "\n",
       "| MSE_mean | MSE_SD |\n",
       "|---|---|\n",
       "| 3.849119  | 0.5531433 |\n",
       "\n"
      ],
      "text/plain": [
       "     MSE_mean MSE_SD   \n",
       "[1,] 3.849119 0.5531433"
      ]
     },
     "metadata": {},
     "output_type": "display_data"
    }
   ],
   "source": [
    "ph = summary(model_Tsuna_V1)\n",
    "cat(\"Model 2: \"); MSE_Cal(BODYFAT ~ dh_1 + d_h1 + h_1, fold = 10, data = bf1)"
   ]
  },
  {
   "cell_type": "code",
   "execution_count": 21,
   "metadata": {},
   "outputs": [
    {
     "data": {
      "text/html": [
       "<table>\n",
       "<thead><tr><th></th><th scope=col>Adjusted.R.square</th><th scope=col>Residual.Standard.error</th><th scope=col>F.statistic</th></tr></thead>\n",
       "<tbody>\n",
       "\t<tr><th scope=row>value</th><td>0.702954</td><td>4.069   </td><td>194.2627</td></tr>\n",
       "</tbody>\n",
       "</table>\n"
      ],
      "text/latex": [
       "\\begin{tabular}{r|lll}\n",
       "  & Adjusted.R.square & Residual.Standard.error & F.statistic\\\\\n",
       "\\hline\n",
       "\tvalue & 0.702954 & 4.069    & 194.2627\\\\\n",
       "\\end{tabular}\n"
      ],
      "text/markdown": [
       "\n",
       "| <!--/--> | Adjusted.R.square | Residual.Standard.error | F.statistic |\n",
       "|---|---|---|---|\n",
       "| value | 0.702954 | 4.069    | 194.2627 |\n",
       "\n"
      ],
      "text/plain": [
       "      Adjusted.R.square Residual.Standard.error F.statistic\n",
       "value 0.702954          4.069                   194.2627   "
      ]
     },
     "metadata": {},
     "output_type": "display_data"
    }
   ],
   "source": [
    "data.frame(\"Adjusted R square\" = ph$adj.r.squared, \"Residual Standard error\" = 4.069 , \"F-statistic\" = ph$fstatistic[1])"
   ]
  },
  {
   "cell_type": "code",
   "execution_count": 22,
   "metadata": {},
   "outputs": [
    {
     "name": "stdout",
     "output_type": "stream",
     "text": [
      "Model 3: BODYFAT ~ ABDOMEN + WEIGHT\n"
     ]
    },
    {
     "data": {
      "text/html": [
       "<table>\n",
       "<thead><tr><th scope=col>MSE_mean</th><th scope=col>MSE_SD</th></tr></thead>\n",
       "<tbody>\n",
       "\t<tr><td>4.056334 </td><td>0.4309585</td></tr>\n",
       "</tbody>\n",
       "</table>\n"
      ],
      "text/latex": [
       "\\begin{tabular}{ll}\n",
       " MSE\\_mean & MSE\\_SD\\\\\n",
       "\\hline\n",
       "\t 4.056334  & 0.4309585\\\\\n",
       "\\end{tabular}\n"
      ],
      "text/markdown": [
       "\n",
       "| MSE_mean | MSE_SD |\n",
       "|---|---|\n",
       "| 4.056334  | 0.4309585 |\n",
       "\n"
      ],
      "text/plain": [
       "     MSE_mean MSE_SD   \n",
       "[1,] 4.056334 0.4309585"
      ]
     },
     "metadata": {},
     "output_type": "display_data"
    }
   ],
   "source": [
    "zyc = summary(model_1)\n",
    "cat(\"Model 3: \"); MSE_Cal(BODYFAT ~ ABDOMEN + WEIGHT, fold = 10, data = bf1)"
   ]
  },
  {
   "cell_type": "code",
   "execution_count": 23,
   "metadata": {},
   "outputs": [
    {
     "data": {
      "text/html": [
       "<table>\n",
       "<thead><tr><th></th><th scope=col>Adjusted.R.square</th><th scope=col>Residual.Standard.error</th><th scope=col>F.statistic</th></tr></thead>\n",
       "<tbody>\n",
       "\t<tr><th scope=row>value</th><td>0.6970823</td><td>4.016    </td><td>282.9002 </td></tr>\n",
       "</tbody>\n",
       "</table>\n"
      ],
      "text/latex": [
       "\\begin{tabular}{r|lll}\n",
       "  & Adjusted.R.square & Residual.Standard.error & F.statistic\\\\\n",
       "\\hline\n",
       "\tvalue & 0.6970823 & 4.016     & 282.9002 \\\\\n",
       "\\end{tabular}\n"
      ],
      "text/markdown": [
       "\n",
       "| <!--/--> | Adjusted.R.square | Residual.Standard.error | F.statistic |\n",
       "|---|---|---|---|\n",
       "| value | 0.6970823 | 4.016     | 282.9002  |\n",
       "\n"
      ],
      "text/plain": [
       "      Adjusted.R.square Residual.Standard.error F.statistic\n",
       "value 0.6970823         4.016                   282.9002   "
      ]
     },
     "metadata": {},
     "output_type": "display_data"
    }
   ],
   "source": [
    "data.frame(\"Adjusted R square\" = zyc$adj.r.squared, \"Residual Standard error\" = 4.016 , \"F-statistic\" = zyc$fstatistic[1])"
   ]
  },
  {
   "cell_type": "markdown",
   "metadata": {},
   "source": [
    "From the results, we could find Model 2 and Model 3 are slightly better than Model1 due to slightly lower standard error of MSE. So\n",
    "we adopt Model 2 and Model 3. In this way, one can choose to input abdomen and height, or abdomen and weight to compute\n",
    "body fat. Our shiny will compute estimated body fat percentage based on what's input."
   ]
  },
  {
   "cell_type": "markdown",
   "metadata": {},
   "source": [
    "## 5. Model intepretation"
   ]
  },
  {
   "cell_type": "markdown",
   "metadata": {},
   "source": [
    "### Model diagnostics"
   ]
  },
  {
   "cell_type": "markdown",
   "metadata": {},
   "source": [
    "![](./image/diag_op.png) ![](./image/diag_tsuna.png)"
   ]
  },
  {
   "cell_type": "markdown",
   "metadata": {},
   "source": [
    "From the diagnostics plot, we could see the two models fit well. The residual follows a normal distribution and costant variance assumption holds."
   ]
  },
  {
   "cell_type": "markdown",
   "metadata": {},
   "source": [
    "## 6. Conclusion"
   ]
  },
  {
   "cell_type": "markdown",
   "metadata": {},
   "source": [
    "After deleting 39th observation, our final proposed models to predict bodyfat% are: \n",
    "![](./image/conclusion.png)"
   ]
  },
  {
   "cell_type": "markdown",
   "metadata": {},
   "source": [
    "**Model Interpretations:**\n",
    "\n",
    "Model (1) implies that, how will a man's body fat percentage change rely not only on his height, but also on his current Abdomen, i.e., the relationship between body fat percentage and abdomen is non-linear. For example, if a man with an abdomen circumference of 85 cms and a height of 65 inches, his body fat percentage will increase by about 3.93% (7.19%), if his abdomen circumference grows by 5 (10) cms. \n",
    "\n",
    "Model (2) implies that, on average, a man's body fat percentage will increase by 8.99% if his abdomen circumference grows by 10 cms and his body fat percentage will increase by 1.24% if he gains 10 lbs.\n",
    "\n",
    "**Strength**: \n",
    "The model we use is quite simple, which only requires two variables as input but gives a fairly good R square. Moreover, it also provides us some flexibility that you can either input abdomen and height or abdomen and weight.\n",
    "\n",
    "**Weakness**: \n",
    "The confidence interval is kind of wide."
   ]
  },
  {
   "cell_type": "markdown",
   "metadata": {},
   "source": [
    "## 7. Contribution\n",
    "- **Jiantong Wang:** Data preprocessing, Model 1, Model 3, Model selection, Summary writing\n",
    "- **Ruixuan Zhao :** Data preprocessing, Model 2, Slides design, Summary writing\n",
    "- **Yuchen Zeng  :** Data preprocessing, Model 2, Model selection, Summary writing, Shinny design, Github organization\n",
    "- **Hao Pan      :** Data preprocessing, Model 3, Slides design, Summary writing"
   ]
  }
 ],
 "metadata": {
  "kernelspec": {
   "display_name": "R",
   "language": "R",
   "name": "ir"
  },
  "language_info": {
   "codemirror_mode": "r",
   "file_extension": ".r",
   "mimetype": "text/x-r-source",
   "name": "R",
   "pygments_lexer": "r",
   "version": "3.6.1"
  }
 },
 "nbformat": 4,
 "nbformat_minor": 2
}
